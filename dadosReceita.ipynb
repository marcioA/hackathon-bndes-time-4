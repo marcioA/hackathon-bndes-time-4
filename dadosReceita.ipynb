{
  "nbformat": 4,
  "nbformat_minor": 0,
  "metadata": {
    "colab": {
      "provenance": [],
      "collapsed_sections": [],
      "authorship_tag": "ABX9TyM7ihKHld3qNgyhiKA+jt9k",
      "include_colab_link": true
    },
    "kernelspec": {
      "name": "python3",
      "display_name": "Python 3"
    },
    "language_info": {
      "name": "python"
    }
  },
  "cells": [
    {
      "cell_type": "markdown",
      "metadata": {
        "id": "view-in-github",
        "colab_type": "text"
      },
      "source": [
        "<a href=\"https://colab.research.google.com/github/marcioA/hackathon-bndes-time-4/blob/main/dadosReceita.ipynb\" target=\"_parent\"><img src=\"https://colab.research.google.com/assets/colab-badge.svg\" alt=\"Open In Colab\"/></a>"
      ]
    },
    {
      "cell_type": "code",
      "execution_count": null,
      "metadata": {
        "id": "itD-VK1xtYv7"
      },
      "outputs": [],
      "source": [
        "# DOWNLOAD E CARGA DA BASE DE CNPJ DA RECEITA FEDERAL (GOVERNO\n",
        "# URL da página principal para download: https://www.gov.br/receitafederal/pt-br/assuntos/orientacao-tributaria/cadastros/consultas/dados-publicos-cnpj\n",
        "\n",
        "\n",
        "# Importando Bibliotecas Necessárias\n",
        "from sqlalchemy import create_engine\n",
        "import pandas as pd\n",
        "import os\n",
        "import zipfile\n",
        "import time\n",
        "import io\n",
        "\n",
        "\n"
      ]
    },
    {
      "cell_type": "code",
      "source": [
        "# Criando função para download de arquivos\n",
        "def download_file(url: str, dest_file: str):\n",
        "    import requests\n",
        "    req = requests.get(url)\n",
        "    file = open(dest_file, 'wb')\n",
        "    for chunk in req.iter_content(100000):\n",
        "        file.write(chunk)\n",
        "    file.close()\n",
        "    return True"
      ],
      "metadata": {
        "id": "yVk4ehpItz9V"
      },
      "execution_count": null,
      "outputs": []
    },
    {
      "cell_type": "code",
      "source": [
        "# Definindo Variáveis\n",
        "url = 'http://200.152.38.155/CNPJ/'\n",
        "directory = 'C:/Users/bruno/OneDrive/Documentos/webscr/dados_receita/'"
      ],
      "metadata": {
        "id": "N6n37eHYt7_6"
      },
      "execution_count": null,
      "outputs": []
    },
    {
      "cell_type": "code",
      "source": [
        "# Baixando dados da Empresa\n",
        "files = [f'K3241.K03200Y{i}.D10814.EMPRECSV.zip' for i in range(10)]\n",
        "for i in files:\n",
        "    download_file(url + i, directory + i)"
      ],
      "metadata": {
        "id": "5-wAxtXhrffz"
      },
      "execution_count": null,
      "outputs": []
    },
    {
      "cell_type": "code",
      "source": [
        "# Baixando dados do Estabelecimento\n",
        "files = [f'K3241.K03200Y{i}.D10814.ESTABELE.zip' for i in range(10)]\n",
        "for i in files:\n",
        "    download_file(url + i, directory + i)\n"
      ],
      "metadata": {
        "id": "HH7mKfXuyMuz"
      },
      "execution_count": null,
      "outputs": []
    },
    {
      "cell_type": "code",
      "source": [
        "# Baixando dados dos Socios\n",
        "files = [f'K3241.K03200Y{i}.D10814.SOCIOCSV.zip' for i in range(10)]\n",
        "for i in files:\n",
        "    download_file(url + i, directory + i)"
      ],
      "metadata": {
        "id": "eRvjxxSNyNx8"
      },
      "execution_count": null,
      "outputs": []
    },
    {
      "cell_type": "code",
      "source": [
        "# Baixando Demais arquivos Auxiliares\n",
        "files = ['F.K03200$Z.D10814.QUALSCSV.zip', 'F.K03200$Z.D10814.MOTICSV.zip', 'F.K03200$Z.D10814.CNAECSV.zip', 'F.K03200$W.SIMPLES.CSV.D10814.zip', 'F.K03200$Z.D10814.MUNICCSV.zip',\n",
        "         'F.K03200$Z.D10814.NATJUCSV.zip', 'F.K03200$Z.D10814.PAISCSV.zip']\n",
        "for i in files:\n",
        "    download_file(url + i, directory + i)"
      ],
      "metadata": {
        "id": "8f2zAtSWyTiF"
      },
      "execution_count": null,
      "outputs": []
    },
    {
      "cell_type": "code",
      "source": [
        "# Definindo Layout das bases para carga no Banco de dados\n",
        "layout_files = {'EMPRE': {'columns':\n",
        "                          {'st_cnpj_base': str, 'st_razao_social': str, 'cd_natureza_juridica': str, 'cd_qualificacao': str,\n",
        "                              'vl_capital_social': str, 'cd_porte_empresa': str, 'st_ente_federativo': str},\n",
        "                          'table_name_db': 'tb_empresa'},\n",
        "                'ESTABELE': {'columns':\n",
        "                             {'st_cnpj_base': str, 'st_cnpj_ordem': str, 'st_cnpj_dv': str, 'cd_matriz_filial': str, 'st_nome_fantasia': str, 'cd_situacao_cadastral': str,\n",
        "                              'dt_situacao_cadastral': str, 'cd_motivo_situacao_cadastral': str, 'st_cidade_exterior': str, 'cd_pais': str, 'dt_inicio_atividade': str,\n",
        "                              'cd_cnae_principal': str, 'cd_cnae_secundario': str, 'st_tipo_logradouro': str, 'st_logradouro': str, 'st_numero': str, 'st_complemento': str,\n",
        "                              'st_bairro': str, 'st_cep': str, 'st_uf': str, 'cd_municipio': str, 'st_ddd1': str, 'st_telefone1': str, 'st_ddd2': str, 'st_telefone2': str,\n",
        "                              'st_ddd_fax': str, 'st_fax': str, 'st_email': str, 'st_situacao_especial': str, 'dt_situacao_especial': str\n",
        "                              }, 'table_name_db': 'tb_estabelecimento'},\n",
        "                'SIMPLES': {'columns':\n",
        "                            {'st_cnpj_base': str, 'st_opcao_simples': str, 'dt_opcao_simples': str, 'dt_exclusao_simples': str,\n",
        "                             'st_opcao_mei': str, 'dt_opcao_mei': str, 'dt_exclusao_mei': str\n",
        "                             }, 'table_name_db': 'tb_dados_simples'},\n",
        "                'SOCIO': {'columns':\n",
        "                           {'st_cnpj_base': str, 'cd_tipo': str, 'st_nome': str, 'st_cpf_cnpj': str, 'cd_qualificacao': str, 'dt_entrada': str,\n",
        "                            'cd_pais': str, 'st_representante': str, 'st_nome_representante': str, 'cd_qualificacao_representante': str, 'cd_faixa_etaria': str},\n",
        "                          'table_name_db': 'tb_socio'},\n",
        "                'PAIS': {'columns': {'cd_pais': str, 'st_pais': str}, 'table_name_db': 'tb_pais'},\n",
        "                'MUNIC': {'columns': {'cd_municipio': str, 'st_municipio': str}, 'table_name_db': 'tb_municipio'},\n",
        "                'QUALS': {'columns': {'cd_qualificacao': str, 'st_qualificacao': str}, 'table_name_db': 'tb_qualificacao_socio'},\n",
        "                'NATJU': {'columns': {'cd_natureza_juridica': str, 'st_natureza_juridica': str}, 'table_name_db': 'tb_natureza_juridica'},\n",
        "                'MOTI': {'columns': {'cd_motivo_situacao_cadastral': str, 'st_motivo_situacao_cadastral': str}, 'table_name_db': 'tb_motivo_situacao_cadastral'},\n",
        "                'CNAE': {'columns': {'cd_cnae': str, 'st_cnae': str}, 'table_name_db': 'tb_cnae'}\n",
        "                }\n"
      ],
      "metadata": {
        "id": "__axpjbPyVDV"
      },
      "execution_count": null,
      "outputs": []
    },
    {
      "cell_type": "code",
      "source": [
        "# Listar arquivos do diretório\n",
        "files = os.listdir(directory)\n",
        "uploaded = []"
      ],
      "metadata": {
        "id": "6HAZErtRycFB"
      },
      "execution_count": null,
      "outputs": []
    }
  ]
}